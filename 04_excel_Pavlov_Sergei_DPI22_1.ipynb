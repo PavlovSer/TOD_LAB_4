{
  "cells": [
    {
      "cell_type": "markdown",
      "metadata": {
        "id": "S1f9RsuUjICq"
      },
      "source": [
        "# Работа с Excel"
      ]
    },
    {
      "cell_type": "markdown",
      "metadata": {
        "id": "KKtM8QjFjIDB"
      },
      "source": [
        "## Лабораторная работа 7.1"
      ]
    },
    {
      "cell_type": "markdown",
      "metadata": {
        "id": "epWIo3W8jIDC"
      },
      "source": [
        "1. Загрузите данные из файлов `reviews_sample.csv` (__ЛР2__) и `recipes_sample.csv` (__ЛР5__) в виде `pd.DataFrame`. Обратите внимание на корректное считывание столбца(ов) с индексами. Оставьте в таблице с рецептами следующие столбцы: `id`, `name`, `minutes`, `submitted`, `description`, `n_ingredients`"
      ]
    },
    {
      "cell_type": "code",
      "source": [
        "#pip install xlwings\n",
        "import pandas as pd\n",
        "import xlwings as xw\n",
        "\n",
        "recipes = pd.read_csv('recipes_sample.csv')\n",
        "reviews = pd.read_csv('reviews_sample.csv', index_col=0)\n",
        "\n",
        "recipes = recipes[['id', 'name', 'minutes', 'submitted', 'description', 'n_ingredients']]\n",
        "\n",
        "recipes"
      ],
      "metadata": {
        "colab": {
          "base_uri": "https://localhost:8080/",
          "height": 424
        },
        "id": "BNp0upzwpAAL",
        "outputId": "d5669dec-e884-4d47-a87b-43182be863f0"
      },
      "execution_count": 43,
      "outputs": [
        {
          "output_type": "execute_result",
          "data": {
            "text/plain": [
              "           id                                          name  minutes  \\\n",
              "0       44123         george s at the cove  black bean soup       90   \n",
              "1       67664            healthy for them  yogurt popsicles       10   \n",
              "2       38798                  i can t believe it s spinach       30   \n",
              "3       35173                          italian  gut busters       45   \n",
              "4       84797      love is in the air  beef fondue   sauces       25   \n",
              "...       ...                                           ...      ...   \n",
              "29995  267661  zurie s holey rustic olive and cheddar bread       80   \n",
              "29996  386977          zwetschgenkuchen  bavarian plum cake      240   \n",
              "29997  103312   zwiebelkuchen   southwest german onion cake       75   \n",
              "29998  486161                                   zydeco soup       60   \n",
              "29999  298512        cookies by design   cookies on a stick       29   \n",
              "\n",
              "        submitted                                        description  \\\n",
              "0      2002-10-25  an original recipe created by chef scott meska...   \n",
              "1      2003-07-26  my children and their friends ask for my homem...   \n",
              "2      2002-08-29            these were so go, it surprised even me.   \n",
              "3      2002-07-27  my sister-in-law made these for us at a family...   \n",
              "4      2004-02-23  i think a fondue is a very romantic casual din...   \n",
              "...           ...                                                ...   \n",
              "29995  2007-11-25  this is based on a french recipe but i changed...   \n",
              "29996  2009-08-24  this is a traditional fresh plum cake, thought...   \n",
              "29997  2004-11-03  this is a traditional late summer early fall s...   \n",
              "29998  2012-08-29  this is a delicious soup that i originally fou...   \n",
              "29999  2008-04-15  i've heard of the 'cookies by design' company,...   \n",
              "\n",
              "       n_ingredients  \n",
              "0               18.0  \n",
              "1                NaN  \n",
              "2                8.0  \n",
              "3                NaN  \n",
              "4                NaN  \n",
              "...              ...  \n",
              "29995           10.0  \n",
              "29996           11.0  \n",
              "29997            NaN  \n",
              "29998            NaN  \n",
              "29999           10.0  \n",
              "\n",
              "[30000 rows x 6 columns]"
            ],
            "text/html": [
              "\n",
              "  <div id=\"df-f779664a-deed-4523-af08-f3cb55632a3a\">\n",
              "    <div class=\"colab-df-container\">\n",
              "      <div>\n",
              "<style scoped>\n",
              "    .dataframe tbody tr th:only-of-type {\n",
              "        vertical-align: middle;\n",
              "    }\n",
              "\n",
              "    .dataframe tbody tr th {\n",
              "        vertical-align: top;\n",
              "    }\n",
              "\n",
              "    .dataframe thead th {\n",
              "        text-align: right;\n",
              "    }\n",
              "</style>\n",
              "<table border=\"1\" class=\"dataframe\">\n",
              "  <thead>\n",
              "    <tr style=\"text-align: right;\">\n",
              "      <th></th>\n",
              "      <th>id</th>\n",
              "      <th>name</th>\n",
              "      <th>minutes</th>\n",
              "      <th>submitted</th>\n",
              "      <th>description</th>\n",
              "      <th>n_ingredients</th>\n",
              "    </tr>\n",
              "  </thead>\n",
              "  <tbody>\n",
              "    <tr>\n",
              "      <th>0</th>\n",
              "      <td>44123</td>\n",
              "      <td>george s at the cove  black bean soup</td>\n",
              "      <td>90</td>\n",
              "      <td>2002-10-25</td>\n",
              "      <td>an original recipe created by chef scott meska...</td>\n",
              "      <td>18.0</td>\n",
              "    </tr>\n",
              "    <tr>\n",
              "      <th>1</th>\n",
              "      <td>67664</td>\n",
              "      <td>healthy for them  yogurt popsicles</td>\n",
              "      <td>10</td>\n",
              "      <td>2003-07-26</td>\n",
              "      <td>my children and their friends ask for my homem...</td>\n",
              "      <td>NaN</td>\n",
              "    </tr>\n",
              "    <tr>\n",
              "      <th>2</th>\n",
              "      <td>38798</td>\n",
              "      <td>i can t believe it s spinach</td>\n",
              "      <td>30</td>\n",
              "      <td>2002-08-29</td>\n",
              "      <td>these were so go, it surprised even me.</td>\n",
              "      <td>8.0</td>\n",
              "    </tr>\n",
              "    <tr>\n",
              "      <th>3</th>\n",
              "      <td>35173</td>\n",
              "      <td>italian  gut busters</td>\n",
              "      <td>45</td>\n",
              "      <td>2002-07-27</td>\n",
              "      <td>my sister-in-law made these for us at a family...</td>\n",
              "      <td>NaN</td>\n",
              "    </tr>\n",
              "    <tr>\n",
              "      <th>4</th>\n",
              "      <td>84797</td>\n",
              "      <td>love is in the air  beef fondue   sauces</td>\n",
              "      <td>25</td>\n",
              "      <td>2004-02-23</td>\n",
              "      <td>i think a fondue is a very romantic casual din...</td>\n",
              "      <td>NaN</td>\n",
              "    </tr>\n",
              "    <tr>\n",
              "      <th>...</th>\n",
              "      <td>...</td>\n",
              "      <td>...</td>\n",
              "      <td>...</td>\n",
              "      <td>...</td>\n",
              "      <td>...</td>\n",
              "      <td>...</td>\n",
              "    </tr>\n",
              "    <tr>\n",
              "      <th>29995</th>\n",
              "      <td>267661</td>\n",
              "      <td>zurie s holey rustic olive and cheddar bread</td>\n",
              "      <td>80</td>\n",
              "      <td>2007-11-25</td>\n",
              "      <td>this is based on a french recipe but i changed...</td>\n",
              "      <td>10.0</td>\n",
              "    </tr>\n",
              "    <tr>\n",
              "      <th>29996</th>\n",
              "      <td>386977</td>\n",
              "      <td>zwetschgenkuchen  bavarian plum cake</td>\n",
              "      <td>240</td>\n",
              "      <td>2009-08-24</td>\n",
              "      <td>this is a traditional fresh plum cake, thought...</td>\n",
              "      <td>11.0</td>\n",
              "    </tr>\n",
              "    <tr>\n",
              "      <th>29997</th>\n",
              "      <td>103312</td>\n",
              "      <td>zwiebelkuchen   southwest german onion cake</td>\n",
              "      <td>75</td>\n",
              "      <td>2004-11-03</td>\n",
              "      <td>this is a traditional late summer early fall s...</td>\n",
              "      <td>NaN</td>\n",
              "    </tr>\n",
              "    <tr>\n",
              "      <th>29998</th>\n",
              "      <td>486161</td>\n",
              "      <td>zydeco soup</td>\n",
              "      <td>60</td>\n",
              "      <td>2012-08-29</td>\n",
              "      <td>this is a delicious soup that i originally fou...</td>\n",
              "      <td>NaN</td>\n",
              "    </tr>\n",
              "    <tr>\n",
              "      <th>29999</th>\n",
              "      <td>298512</td>\n",
              "      <td>cookies by design   cookies on a stick</td>\n",
              "      <td>29</td>\n",
              "      <td>2008-04-15</td>\n",
              "      <td>i've heard of the 'cookies by design' company,...</td>\n",
              "      <td>10.0</td>\n",
              "    </tr>\n",
              "  </tbody>\n",
              "</table>\n",
              "<p>30000 rows × 6 columns</p>\n",
              "</div>\n",
              "      <button class=\"colab-df-convert\" onclick=\"convertToInteractive('df-f779664a-deed-4523-af08-f3cb55632a3a')\"\n",
              "              title=\"Convert this dataframe to an interactive table.\"\n",
              "              style=\"display:none;\">\n",
              "        \n",
              "  <svg xmlns=\"http://www.w3.org/2000/svg\" height=\"24px\"viewBox=\"0 0 24 24\"\n",
              "       width=\"24px\">\n",
              "    <path d=\"M0 0h24v24H0V0z\" fill=\"none\"/>\n",
              "    <path d=\"M18.56 5.44l.94 2.06.94-2.06 2.06-.94-2.06-.94-.94-2.06-.94 2.06-2.06.94zm-11 1L8.5 8.5l.94-2.06 2.06-.94-2.06-.94L8.5 2.5l-.94 2.06-2.06.94zm10 10l.94 2.06.94-2.06 2.06-.94-2.06-.94-.94-2.06-.94 2.06-2.06.94z\"/><path d=\"M17.41 7.96l-1.37-1.37c-.4-.4-.92-.59-1.43-.59-.52 0-1.04.2-1.43.59L10.3 9.45l-7.72 7.72c-.78.78-.78 2.05 0 2.83L4 21.41c.39.39.9.59 1.41.59.51 0 1.02-.2 1.41-.59l7.78-7.78 2.81-2.81c.8-.78.8-2.07 0-2.86zM5.41 20L4 18.59l7.72-7.72 1.47 1.35L5.41 20z\"/>\n",
              "  </svg>\n",
              "      </button>\n",
              "      \n",
              "  <style>\n",
              "    .colab-df-container {\n",
              "      display:flex;\n",
              "      flex-wrap:wrap;\n",
              "      gap: 12px;\n",
              "    }\n",
              "\n",
              "    .colab-df-convert {\n",
              "      background-color: #E8F0FE;\n",
              "      border: none;\n",
              "      border-radius: 50%;\n",
              "      cursor: pointer;\n",
              "      display: none;\n",
              "      fill: #1967D2;\n",
              "      height: 32px;\n",
              "      padding: 0 0 0 0;\n",
              "      width: 32px;\n",
              "    }\n",
              "\n",
              "    .colab-df-convert:hover {\n",
              "      background-color: #E2EBFA;\n",
              "      box-shadow: 0px 1px 2px rgba(60, 64, 67, 0.3), 0px 1px 3px 1px rgba(60, 64, 67, 0.15);\n",
              "      fill: #174EA6;\n",
              "    }\n",
              "\n",
              "    [theme=dark] .colab-df-convert {\n",
              "      background-color: #3B4455;\n",
              "      fill: #D2E3FC;\n",
              "    }\n",
              "\n",
              "    [theme=dark] .colab-df-convert:hover {\n",
              "      background-color: #434B5C;\n",
              "      box-shadow: 0px 1px 3px 1px rgba(0, 0, 0, 0.15);\n",
              "      filter: drop-shadow(0px 1px 2px rgba(0, 0, 0, 0.3));\n",
              "      fill: #FFFFFF;\n",
              "    }\n",
              "  </style>\n",
              "\n",
              "      <script>\n",
              "        const buttonEl =\n",
              "          document.querySelector('#df-f779664a-deed-4523-af08-f3cb55632a3a button.colab-df-convert');\n",
              "        buttonEl.style.display =\n",
              "          google.colab.kernel.accessAllowed ? 'block' : 'none';\n",
              "\n",
              "        async function convertToInteractive(key) {\n",
              "          const element = document.querySelector('#df-f779664a-deed-4523-af08-f3cb55632a3a');\n",
              "          const dataTable =\n",
              "            await google.colab.kernel.invokeFunction('convertToInteractive',\n",
              "                                                     [key], {});\n",
              "          if (!dataTable) return;\n",
              "\n",
              "          const docLinkHtml = 'Like what you see? Visit the ' +\n",
              "            '<a target=\"_blank\" href=https://colab.research.google.com/notebooks/data_table.ipynb>data table notebook</a>'\n",
              "            + ' to learn more about interactive tables.';\n",
              "          element.innerHTML = '';\n",
              "          dataTable['output_type'] = 'display_data';\n",
              "          await google.colab.output.renderOutput(dataTable, element);\n",
              "          const docLink = document.createElement('div');\n",
              "          docLink.innerHTML = docLinkHtml;\n",
              "          element.appendChild(docLink);\n",
              "        }\n",
              "      </script>\n",
              "    </div>\n",
              "  </div>\n",
              "  "
            ]
          },
          "metadata": {},
          "execution_count": 43
        }
      ]
    },
    {
      "cell_type": "code",
      "source": [
        "reviews"
      ],
      "metadata": {
        "colab": {
          "base_uri": "https://localhost:8080/",
          "height": 424
        },
        "id": "XkX0pOnEr4ON",
        "outputId": "7fad153e-70b1-4be0-cc5a-81b0f98a957a"
      },
      "execution_count": 44,
      "outputs": [
        {
          "output_type": "execute_result",
          "data": {
            "text/plain": [
              "            user_id  recipe_id        date  rating  \\\n",
              "370476        21752      57993  2003-05-01       5   \n",
              "624300       431813     142201  2007-09-16       5   \n",
              "187037       400708     252013  2008-01-10       4   \n",
              "706134   2001852463     404716  2017-12-11       5   \n",
              "312179        95810     129396  2008-03-14       5   \n",
              "...             ...        ...         ...     ...   \n",
              "1013457     1270706     335534  2009-05-17       4   \n",
              "158736      2282344       8701  2012-06-03       0   \n",
              "1059834      689540     222001  2008-04-08       5   \n",
              "453285   2000242659     354979  2015-06-02       5   \n",
              "691207       463435     415599  2010-09-30       5   \n",
              "\n",
              "                                                    review  \n",
              "370476   Last week whole sides of frozen salmon fillet ...  \n",
              "624300   So simple and so tasty!  I used a yellow capsi...  \n",
              "187037   Very nice breakfast HH, easy to make and yummy...  \n",
              "706134   These are a favorite for the holidays and so e...  \n",
              "312179   Excellent soup!  The tomato flavor is just gre...  \n",
              "...                                                    ...  \n",
              "1013457  This recipe was great! I made it last night. I...  \n",
              "158736   This recipe is outstanding. I followed the rec...  \n",
              "1059834  Well, we were not a crowd but it was a fabulou...  \n",
              "453285   I have been a steak eater and dedicated BBQ gr...  \n",
              "691207   Wonderful and simple to prepare seasoning blen...  \n",
              "\n",
              "[126696 rows x 5 columns]"
            ],
            "text/html": [
              "\n",
              "  <div id=\"df-0318a43a-f6a0-419e-a6fd-4fa5b3147eee\">\n",
              "    <div class=\"colab-df-container\">\n",
              "      <div>\n",
              "<style scoped>\n",
              "    .dataframe tbody tr th:only-of-type {\n",
              "        vertical-align: middle;\n",
              "    }\n",
              "\n",
              "    .dataframe tbody tr th {\n",
              "        vertical-align: top;\n",
              "    }\n",
              "\n",
              "    .dataframe thead th {\n",
              "        text-align: right;\n",
              "    }\n",
              "</style>\n",
              "<table border=\"1\" class=\"dataframe\">\n",
              "  <thead>\n",
              "    <tr style=\"text-align: right;\">\n",
              "      <th></th>\n",
              "      <th>user_id</th>\n",
              "      <th>recipe_id</th>\n",
              "      <th>date</th>\n",
              "      <th>rating</th>\n",
              "      <th>review</th>\n",
              "    </tr>\n",
              "  </thead>\n",
              "  <tbody>\n",
              "    <tr>\n",
              "      <th>370476</th>\n",
              "      <td>21752</td>\n",
              "      <td>57993</td>\n",
              "      <td>2003-05-01</td>\n",
              "      <td>5</td>\n",
              "      <td>Last week whole sides of frozen salmon fillet ...</td>\n",
              "    </tr>\n",
              "    <tr>\n",
              "      <th>624300</th>\n",
              "      <td>431813</td>\n",
              "      <td>142201</td>\n",
              "      <td>2007-09-16</td>\n",
              "      <td>5</td>\n",
              "      <td>So simple and so tasty!  I used a yellow capsi...</td>\n",
              "    </tr>\n",
              "    <tr>\n",
              "      <th>187037</th>\n",
              "      <td>400708</td>\n",
              "      <td>252013</td>\n",
              "      <td>2008-01-10</td>\n",
              "      <td>4</td>\n",
              "      <td>Very nice breakfast HH, easy to make and yummy...</td>\n",
              "    </tr>\n",
              "    <tr>\n",
              "      <th>706134</th>\n",
              "      <td>2001852463</td>\n",
              "      <td>404716</td>\n",
              "      <td>2017-12-11</td>\n",
              "      <td>5</td>\n",
              "      <td>These are a favorite for the holidays and so e...</td>\n",
              "    </tr>\n",
              "    <tr>\n",
              "      <th>312179</th>\n",
              "      <td>95810</td>\n",
              "      <td>129396</td>\n",
              "      <td>2008-03-14</td>\n",
              "      <td>5</td>\n",
              "      <td>Excellent soup!  The tomato flavor is just gre...</td>\n",
              "    </tr>\n",
              "    <tr>\n",
              "      <th>...</th>\n",
              "      <td>...</td>\n",
              "      <td>...</td>\n",
              "      <td>...</td>\n",
              "      <td>...</td>\n",
              "      <td>...</td>\n",
              "    </tr>\n",
              "    <tr>\n",
              "      <th>1013457</th>\n",
              "      <td>1270706</td>\n",
              "      <td>335534</td>\n",
              "      <td>2009-05-17</td>\n",
              "      <td>4</td>\n",
              "      <td>This recipe was great! I made it last night. I...</td>\n",
              "    </tr>\n",
              "    <tr>\n",
              "      <th>158736</th>\n",
              "      <td>2282344</td>\n",
              "      <td>8701</td>\n",
              "      <td>2012-06-03</td>\n",
              "      <td>0</td>\n",
              "      <td>This recipe is outstanding. I followed the rec...</td>\n",
              "    </tr>\n",
              "    <tr>\n",
              "      <th>1059834</th>\n",
              "      <td>689540</td>\n",
              "      <td>222001</td>\n",
              "      <td>2008-04-08</td>\n",
              "      <td>5</td>\n",
              "      <td>Well, we were not a crowd but it was a fabulou...</td>\n",
              "    </tr>\n",
              "    <tr>\n",
              "      <th>453285</th>\n",
              "      <td>2000242659</td>\n",
              "      <td>354979</td>\n",
              "      <td>2015-06-02</td>\n",
              "      <td>5</td>\n",
              "      <td>I have been a steak eater and dedicated BBQ gr...</td>\n",
              "    </tr>\n",
              "    <tr>\n",
              "      <th>691207</th>\n",
              "      <td>463435</td>\n",
              "      <td>415599</td>\n",
              "      <td>2010-09-30</td>\n",
              "      <td>5</td>\n",
              "      <td>Wonderful and simple to prepare seasoning blen...</td>\n",
              "    </tr>\n",
              "  </tbody>\n",
              "</table>\n",
              "<p>126696 rows × 5 columns</p>\n",
              "</div>\n",
              "      <button class=\"colab-df-convert\" onclick=\"convertToInteractive('df-0318a43a-f6a0-419e-a6fd-4fa5b3147eee')\"\n",
              "              title=\"Convert this dataframe to an interactive table.\"\n",
              "              style=\"display:none;\">\n",
              "        \n",
              "  <svg xmlns=\"http://www.w3.org/2000/svg\" height=\"24px\"viewBox=\"0 0 24 24\"\n",
              "       width=\"24px\">\n",
              "    <path d=\"M0 0h24v24H0V0z\" fill=\"none\"/>\n",
              "    <path d=\"M18.56 5.44l.94 2.06.94-2.06 2.06-.94-2.06-.94-.94-2.06-.94 2.06-2.06.94zm-11 1L8.5 8.5l.94-2.06 2.06-.94-2.06-.94L8.5 2.5l-.94 2.06-2.06.94zm10 10l.94 2.06.94-2.06 2.06-.94-2.06-.94-.94-2.06-.94 2.06-2.06.94z\"/><path d=\"M17.41 7.96l-1.37-1.37c-.4-.4-.92-.59-1.43-.59-.52 0-1.04.2-1.43.59L10.3 9.45l-7.72 7.72c-.78.78-.78 2.05 0 2.83L4 21.41c.39.39.9.59 1.41.59.51 0 1.02-.2 1.41-.59l7.78-7.78 2.81-2.81c.8-.78.8-2.07 0-2.86zM5.41 20L4 18.59l7.72-7.72 1.47 1.35L5.41 20z\"/>\n",
              "  </svg>\n",
              "      </button>\n",
              "      \n",
              "  <style>\n",
              "    .colab-df-container {\n",
              "      display:flex;\n",
              "      flex-wrap:wrap;\n",
              "      gap: 12px;\n",
              "    }\n",
              "\n",
              "    .colab-df-convert {\n",
              "      background-color: #E8F0FE;\n",
              "      border: none;\n",
              "      border-radius: 50%;\n",
              "      cursor: pointer;\n",
              "      display: none;\n",
              "      fill: #1967D2;\n",
              "      height: 32px;\n",
              "      padding: 0 0 0 0;\n",
              "      width: 32px;\n",
              "    }\n",
              "\n",
              "    .colab-df-convert:hover {\n",
              "      background-color: #E2EBFA;\n",
              "      box-shadow: 0px 1px 2px rgba(60, 64, 67, 0.3), 0px 1px 3px 1px rgba(60, 64, 67, 0.15);\n",
              "      fill: #174EA6;\n",
              "    }\n",
              "\n",
              "    [theme=dark] .colab-df-convert {\n",
              "      background-color: #3B4455;\n",
              "      fill: #D2E3FC;\n",
              "    }\n",
              "\n",
              "    [theme=dark] .colab-df-convert:hover {\n",
              "      background-color: #434B5C;\n",
              "      box-shadow: 0px 1px 3px 1px rgba(0, 0, 0, 0.15);\n",
              "      filter: drop-shadow(0px 1px 2px rgba(0, 0, 0, 0.3));\n",
              "      fill: #FFFFFF;\n",
              "    }\n",
              "  </style>\n",
              "\n",
              "      <script>\n",
              "        const buttonEl =\n",
              "          document.querySelector('#df-0318a43a-f6a0-419e-a6fd-4fa5b3147eee button.colab-df-convert');\n",
              "        buttonEl.style.display =\n",
              "          google.colab.kernel.accessAllowed ? 'block' : 'none';\n",
              "\n",
              "        async function convertToInteractive(key) {\n",
              "          const element = document.querySelector('#df-0318a43a-f6a0-419e-a6fd-4fa5b3147eee');\n",
              "          const dataTable =\n",
              "            await google.colab.kernel.invokeFunction('convertToInteractive',\n",
              "                                                     [key], {});\n",
              "          if (!dataTable) return;\n",
              "\n",
              "          const docLinkHtml = 'Like what you see? Visit the ' +\n",
              "            '<a target=\"_blank\" href=https://colab.research.google.com/notebooks/data_table.ipynb>data table notebook</a>'\n",
              "            + ' to learn more about interactive tables.';\n",
              "          element.innerHTML = '';\n",
              "          dataTable['output_type'] = 'display_data';\n",
              "          await google.colab.output.renderOutput(dataTable, element);\n",
              "          const docLink = document.createElement('div');\n",
              "          docLink.innerHTML = docLinkHtml;\n",
              "          element.appendChild(docLink);\n",
              "        }\n",
              "      </script>\n",
              "    </div>\n",
              "  </div>\n",
              "  "
            ]
          },
          "metadata": {},
          "execution_count": 44
        }
      ]
    },
    {
      "cell_type": "markdown",
      "metadata": {
        "id": "pc59oCrGjIDF"
      },
      "source": [
        "2. Случайным образом выберите 5% строк из каждой таблицы и сохраните две таблицы на разные листы в один файл `recipes.xlsx`. Дайте листам названия \"Рецепты\" и \"Отзывы\", соответствующие содержанию таблиц. "
      ]
    },
    {
      "cell_type": "code",
      "source": [
        "recipes_random_5_percent = recipes.sample(n=len(recipes) * 5 // 100)\n",
        "reviews_random_5_percent = reviews.sample(n=len(reviews) * 5 // 100)\n",
        "\n",
        "with pd.ExcelWriter(\"recipes.xlsx\") as writer:\n",
        "    recipes_random_5_percent.to_excel(writer, sheet_name=\"Рецепты\", index = False)\n",
        "    reviews_random_5_percent.to_excel(writer, sheet_name=\"Отзывы\", index = False)"
      ],
      "metadata": {
        "id": "gfly779etBjm"
      },
      "execution_count": 49,
      "outputs": []
    },
    {
      "cell_type": "markdown",
      "metadata": {
        "id": "9e9Ne0WrjIDG"
      },
      "source": [
        "3. Используя `xlwings`, добавьте на лист `Рецепты` столбец `seconds_assign`, показывающий время выполнения рецепта в секундах. Выполните задание при помощи присваивания массива значений диапазону ячеек."
      ]
    },
    {
      "cell_type": "markdown",
      "source": [
        "**Далее на Linux через Google Colab не функционирует**"
      ],
      "metadata": {
        "id": "AgdWv_09E5uK"
      }
    },
    {
      "cell_type": "code",
      "source": [
        "book = xw.Book('recipes.xlsx')\n",
        "\n",
        "sht = wb.sheets['Рецепты']\n",
        "\n",
        "sht.range('G1').value = 'seconds_assign'\n",
        "sht['G2:G1501'].value = recipes_random_5_percent['minutes'] * 60"
      ],
      "metadata": {
        "colab": {
          "base_uri": "https://localhost:8080/",
          "height": 390
        },
        "id": "ttqhVU9N1lZz",
        "outputId": "b9e04cf0-8951-4d12-d401-e5cddfa840ae"
      },
      "execution_count": 52,
      "outputs": [
        {
          "output_type": "error",
          "ename": "XlwingsError",
          "evalue": "ignored",
          "traceback": [
            "\u001b[0;31m---------------------------------------------------------------------------\u001b[0m",
            "\u001b[0;31mXlwingsError\u001b[0m                              Traceback (most recent call last)",
            "\u001b[0;32m<ipython-input-52-ab81a86f04b4>\u001b[0m in \u001b[0;36m<cell line: 1>\u001b[0;34m()\u001b[0m\n\u001b[0;32m----> 1\u001b[0;31m \u001b[0mbook\u001b[0m \u001b[0;34m=\u001b[0m \u001b[0mxw\u001b[0m\u001b[0;34m.\u001b[0m\u001b[0mBook\u001b[0m\u001b[0;34m(\u001b[0m\u001b[0;34m'recipes.xlsx'\u001b[0m\u001b[0;34m)\u001b[0m\u001b[0;34m\u001b[0m\u001b[0;34m\u001b[0m\u001b[0m\n\u001b[0m\u001b[1;32m      2\u001b[0m \u001b[0;34m\u001b[0m\u001b[0m\n\u001b[1;32m      3\u001b[0m \u001b[0msht\u001b[0m \u001b[0;34m=\u001b[0m \u001b[0mwb\u001b[0m\u001b[0;34m.\u001b[0m\u001b[0msheets\u001b[0m\u001b[0;34m[\u001b[0m\u001b[0;34m'Рецепты'\u001b[0m\u001b[0;34m]\u001b[0m\u001b[0;34m\u001b[0m\u001b[0;34m\u001b[0m\u001b[0m\n\u001b[1;32m      4\u001b[0m \u001b[0;34m\u001b[0m\u001b[0m\n\u001b[1;32m      5\u001b[0m \u001b[0msht\u001b[0m\u001b[0;34m.\u001b[0m\u001b[0mrange\u001b[0m\u001b[0;34m(\u001b[0m\u001b[0;34m'G1'\u001b[0m\u001b[0;34m)\u001b[0m\u001b[0;34m.\u001b[0m\u001b[0mvalue\u001b[0m \u001b[0;34m=\u001b[0m \u001b[0;34m'seconds_assign'\u001b[0m\u001b[0;34m\u001b[0m\u001b[0;34m\u001b[0m\u001b[0m\n",
            "\u001b[0;32m/usr/local/lib/python3.10/dist-packages/xlwings/main.py\u001b[0m in \u001b[0;36m__init__\u001b[0;34m(self, fullname, update_links, read_only, format, password, write_res_password, ignore_read_only_recommended, origin, delimiter, editable, notify, converter, add_to_mru, local, corrupt_load, impl, json, mode, engine)\u001b[0m\n\u001b[1;32m    910\u001b[0m \u001b[0;34m\u001b[0m\u001b[0m\n\u001b[1;32m    911\u001b[0m                 \u001b[0mcandidates\u001b[0m \u001b[0;34m=\u001b[0m \u001b[0;34m[\u001b[0m\u001b[0;34m]\u001b[0m\u001b[0;34m\u001b[0m\u001b[0;34m\u001b[0m\u001b[0m\n\u001b[0;32m--> 912\u001b[0;31m                 \u001b[0;32mfor\u001b[0m \u001b[0mapp\u001b[0m \u001b[0;32min\u001b[0m \u001b[0mapps\u001b[0m\u001b[0;34m:\u001b[0m\u001b[0;34m\u001b[0m\u001b[0;34m\u001b[0m\u001b[0m\n\u001b[0m\u001b[1;32m    913\u001b[0m                     \u001b[0;32mfor\u001b[0m \u001b[0mwb\u001b[0m \u001b[0;32min\u001b[0m \u001b[0mapp\u001b[0m\u001b[0;34m.\u001b[0m\u001b[0mbooks\u001b[0m\u001b[0;34m:\u001b[0m\u001b[0;34m\u001b[0m\u001b[0;34m\u001b[0m\u001b[0m\n\u001b[1;32m    914\u001b[0m                         \u001b[0;31m# Comparing by name first saves us from having to compare the\u001b[0m\u001b[0;34m\u001b[0m\u001b[0;34m\u001b[0m\u001b[0m\n",
            "\u001b[0;32m/usr/local/lib/python3.10/dist-packages/xlwings/main.py\u001b[0m in \u001b[0;36m__iter__\u001b[0;34m(self)\u001b[0m\n\u001b[1;32m    254\u001b[0m \u001b[0;34m\u001b[0m\u001b[0m\n\u001b[1;32m    255\u001b[0m     \u001b[0;32mdef\u001b[0m \u001b[0m__iter__\u001b[0m\u001b[0;34m(\u001b[0m\u001b[0mself\u001b[0m\u001b[0;34m)\u001b[0m\u001b[0;34m:\u001b[0m\u001b[0;34m\u001b[0m\u001b[0;34m\u001b[0m\u001b[0m\n\u001b[0;32m--> 256\u001b[0;31m         \u001b[0;32mfor\u001b[0m \u001b[0mapp\u001b[0m \u001b[0;32min\u001b[0m \u001b[0mself\u001b[0m\u001b[0;34m.\u001b[0m\u001b[0mimpl\u001b[0m\u001b[0;34m:\u001b[0m\u001b[0;34m\u001b[0m\u001b[0;34m\u001b[0m\u001b[0m\n\u001b[0m\u001b[1;32m    257\u001b[0m             \u001b[0;32myield\u001b[0m \u001b[0mApp\u001b[0m\u001b[0;34m(\u001b[0m\u001b[0mimpl\u001b[0m\u001b[0;34m=\u001b[0m\u001b[0mapp\u001b[0m\u001b[0;34m)\u001b[0m\u001b[0;34m\u001b[0m\u001b[0;34m\u001b[0m\u001b[0m\n\u001b[1;32m    258\u001b[0m \u001b[0;34m\u001b[0m\u001b[0m\n",
            "\u001b[0;32m/usr/local/lib/python3.10/dist-packages/xlwings/main.py\u001b[0m in \u001b[0;36mimpl\u001b[0;34m(self)\u001b[0m\n\u001b[1;32m   5155\u001b[0m                 \u001b[0msys\u001b[0m\u001b[0;34m.\u001b[0m\u001b[0mplatform\u001b[0m\u001b[0;34m.\u001b[0m\u001b[0mstartswith\u001b[0m\u001b[0;34m(\u001b[0m\u001b[0;34m\"darwin\"\u001b[0m\u001b[0;34m)\u001b[0m \u001b[0;32mor\u001b[0m \u001b[0msys\u001b[0m\u001b[0;34m.\u001b[0m\u001b[0mplatform\u001b[0m\u001b[0;34m.\u001b[0m\u001b[0mstartswith\u001b[0m\u001b[0;34m(\u001b[0m\u001b[0;34m\"win\"\u001b[0m\u001b[0;34m)\u001b[0m\u001b[0;34m\u001b[0m\u001b[0;34m\u001b[0m\u001b[0m\n\u001b[1;32m   5156\u001b[0m             ):\n\u001b[0;32m-> 5157\u001b[0;31m                 raise XlwingsError(\n\u001b[0m\u001b[1;32m   5158\u001b[0m                     \u001b[0;34m\"The interactive mode of xlwings is only supported on Windows and \"\u001b[0m\u001b[0;34m\u001b[0m\u001b[0;34m\u001b[0m\u001b[0m\n\u001b[1;32m   5159\u001b[0m                     \u001b[0;34m\"macOS. On Linux, you can use xlwings Server or xlwings Reader.\"\u001b[0m\u001b[0;34m\u001b[0m\u001b[0;34m\u001b[0m\u001b[0m\n",
            "\u001b[0;31mXlwingsError\u001b[0m: The interactive mode of xlwings is only supported on Windows and macOS. On Linux, you can use xlwings Server or xlwings Reader."
          ]
        }
      ]
    },
    {
      "cell_type": "markdown",
      "metadata": {
        "id": "fnlA-eAOjIDI"
      },
      "source": [
        "4. Используя `xlwings`, добавьте на лист `Рецепты` столбец `seconds_formula`, показывающий время выполнения рецепта в секундах. Выполните задание при помощи формул Excel."
      ]
    },
    {
      "cell_type": "markdown",
      "source": [
        "**Далее на Linux через Google Colab не функционирует**"
      ],
      "metadata": {
        "id": "pl0QVrLeFtR7"
      }
    },
    {
      "cell_type": "code",
      "source": [
        "sht.range('H1').value = 'seconds_formula'\n",
        "\n",
        "fml = xw.Range('H2').formula = f'=$C12*60'\n",
        "\n",
        "xw.Range(\"H2:H1501\").formula = fml"
      ],
      "metadata": {
        "colab": {
          "base_uri": "https://localhost:8080/",
          "height": 241
        },
        "id": "G1lb-wsy9D5t",
        "outputId": "4c142f34-5cbf-4388-d20b-95c7dd5eb6cb"
      },
      "execution_count": 53,
      "outputs": [
        {
          "output_type": "error",
          "ename": "NameError",
          "evalue": "ignored",
          "traceback": [
            "\u001b[0;31m---------------------------------------------------------------------------\u001b[0m",
            "\u001b[0;31mNameError\u001b[0m                                 Traceback (most recent call last)",
            "\u001b[0;32m<ipython-input-53-a714e1f8c477>\u001b[0m in \u001b[0;36m<cell line: 1>\u001b[0;34m()\u001b[0m\n\u001b[0;32m----> 1\u001b[0;31m \u001b[0msht\u001b[0m\u001b[0;34m.\u001b[0m\u001b[0mrange\u001b[0m\u001b[0;34m(\u001b[0m\u001b[0;34m'H1'\u001b[0m\u001b[0;34m)\u001b[0m\u001b[0;34m.\u001b[0m\u001b[0mvalue\u001b[0m \u001b[0;34m=\u001b[0m \u001b[0;34m'seconds_formula'\u001b[0m\u001b[0;34m\u001b[0m\u001b[0;34m\u001b[0m\u001b[0m\n\u001b[0m\u001b[1;32m      2\u001b[0m \u001b[0;34m\u001b[0m\u001b[0m\n\u001b[1;32m      3\u001b[0m \u001b[0mfml\u001b[0m \u001b[0;34m=\u001b[0m \u001b[0mxw\u001b[0m\u001b[0;34m.\u001b[0m\u001b[0mRange\u001b[0m\u001b[0;34m(\u001b[0m\u001b[0;34m'H2'\u001b[0m\u001b[0;34m)\u001b[0m\u001b[0;34m.\u001b[0m\u001b[0mformula\u001b[0m \u001b[0;34m=\u001b[0m \u001b[0;34mf'=$C12*60'\u001b[0m\u001b[0;34m\u001b[0m\u001b[0;34m\u001b[0m\u001b[0m\n\u001b[1;32m      4\u001b[0m \u001b[0;34m\u001b[0m\u001b[0m\n\u001b[1;32m      5\u001b[0m \u001b[0mxw\u001b[0m\u001b[0;34m.\u001b[0m\u001b[0mRange\u001b[0m\u001b[0;34m(\u001b[0m\u001b[0;34m\"H2:H1501\"\u001b[0m\u001b[0;34m)\u001b[0m\u001b[0;34m.\u001b[0m\u001b[0mformula\u001b[0m \u001b[0;34m=\u001b[0m \u001b[0mfml\u001b[0m\u001b[0;34m\u001b[0m\u001b[0;34m\u001b[0m\u001b[0m\n",
            "\u001b[0;31mNameError\u001b[0m: name 'sht' is not defined"
          ]
        }
      ]
    },
    {
      "cell_type": "markdown",
      "metadata": {
        "id": "T0kDUQe8jIDJ"
      },
      "source": [
        "5. Сделайте названия всех добавленных столбцов полужирными и выровняйте по центру ячейки."
      ]
    },
    {
      "cell_type": "markdown",
      "source": [
        "**Далее на Linux через Google Colab не функционирует**"
      ],
      "metadata": {
        "id": "CBo9picAFzdo"
      }
    },
    {
      "cell_type": "code",
      "source": [
        "sht.range('G1:H1').api.Font.Bold = True\n",
        "sht.range('G1:H1').api.HorizontalAlignment = -4108"
      ],
      "metadata": {
        "colab": {
          "base_uri": "https://localhost:8080/",
          "height": 187
        },
        "id": "acvCLgFSCkPN",
        "outputId": "cc549932-dd1c-4191-d4ef-c0fabcfbbae1"
      },
      "execution_count": 56,
      "outputs": [
        {
          "output_type": "error",
          "ename": "NameError",
          "evalue": "ignored",
          "traceback": [
            "\u001b[0;31m---------------------------------------------------------------------------\u001b[0m",
            "\u001b[0;31mNameError\u001b[0m                                 Traceback (most recent call last)",
            "\u001b[0;32m<ipython-input-56-67608739fef8>\u001b[0m in \u001b[0;36m<cell line: 1>\u001b[0;34m()\u001b[0m\n\u001b[0;32m----> 1\u001b[0;31m \u001b[0msht\u001b[0m\u001b[0;34m.\u001b[0m\u001b[0mrange\u001b[0m\u001b[0;34m(\u001b[0m\u001b[0;34m'G1:H1'\u001b[0m\u001b[0;34m)\u001b[0m\u001b[0;34m.\u001b[0m\u001b[0mapi\u001b[0m\u001b[0;34m.\u001b[0m\u001b[0mFont\u001b[0m\u001b[0;34m.\u001b[0m\u001b[0mBold\u001b[0m \u001b[0;34m=\u001b[0m \u001b[0;32mTrue\u001b[0m\u001b[0;34m\u001b[0m\u001b[0;34m\u001b[0m\u001b[0m\n\u001b[0m\u001b[1;32m      2\u001b[0m \u001b[0msht\u001b[0m\u001b[0;34m.\u001b[0m\u001b[0mrange\u001b[0m\u001b[0;34m(\u001b[0m\u001b[0;34m'G1:H1'\u001b[0m\u001b[0;34m)\u001b[0m\u001b[0;34m.\u001b[0m\u001b[0mapi\u001b[0m\u001b[0;34m.\u001b[0m\u001b[0mHorizontalAlignment\u001b[0m \u001b[0;34m=\u001b[0m \u001b[0;34m-\u001b[0m\u001b[0;36m4108\u001b[0m\u001b[0;34m\u001b[0m\u001b[0;34m\u001b[0m\u001b[0m\n",
            "\u001b[0;31mNameError\u001b[0m: name 'sht' is not defined"
          ]
        }
      ]
    },
    {
      "cell_type": "markdown",
      "metadata": {
        "id": "uGeraXxqjIDJ"
      },
      "source": [
        "6. Раскрасьте ячейки столбца `minutes` в соответствии со следующим правилом: если рецепт выполняется быстрее 5 минут, то цвет - зеленый; от 5 до 10 минут - жёлтый; и больше 10 - красный."
      ]
    },
    {
      "cell_type": "markdown",
      "source": [
        "**Далее на Linux через Google Colab не функционирует**"
      ],
      "metadata": {
        "id": "8U_EDPVhKc42"
      }
    },
    {
      "cell_type": "code",
      "source": [
        "for i in range(2, 1502):\n",
        "    time = sht.range['C'+str(i)]\n",
        "    if time < 5:\n",
        "        sht.range('C'+str(i)).api.Color = 'green'\n",
        "    elif time <= 10:\n",
        "        sht.range('C'+str(i)).api.Color = 'yellow'\n",
        "    else:\n",
        "        sht.range('C'+str(i)).api.Color = 'red'"
      ],
      "metadata": {
        "colab": {
          "base_uri": "https://localhost:8080/",
          "height": 241
        },
        "id": "PeagrfXyG4V_",
        "outputId": "704c9f2d-ed38-47d5-b37f-f8fc1f2e5326"
      },
      "execution_count": 58,
      "outputs": [
        {
          "output_type": "error",
          "ename": "NameError",
          "evalue": "ignored",
          "traceback": [
            "\u001b[0;31m---------------------------------------------------------------------------\u001b[0m",
            "\u001b[0;31mNameError\u001b[0m                                 Traceback (most recent call last)",
            "\u001b[0;32m<ipython-input-58-3e96a2835a33>\u001b[0m in \u001b[0;36m<cell line: 1>\u001b[0;34m()\u001b[0m\n\u001b[1;32m      1\u001b[0m \u001b[0;32mfor\u001b[0m \u001b[0mi\u001b[0m \u001b[0;32min\u001b[0m \u001b[0mrange\u001b[0m\u001b[0;34m(\u001b[0m\u001b[0;36m2\u001b[0m\u001b[0;34m,\u001b[0m \u001b[0;36m1502\u001b[0m\u001b[0;34m)\u001b[0m\u001b[0;34m:\u001b[0m\u001b[0;34m\u001b[0m\u001b[0;34m\u001b[0m\u001b[0m\n\u001b[0;32m----> 2\u001b[0;31m     \u001b[0mtime\u001b[0m \u001b[0;34m=\u001b[0m \u001b[0msht\u001b[0m\u001b[0;34m.\u001b[0m\u001b[0mrange\u001b[0m\u001b[0;34m[\u001b[0m\u001b[0;34m'C'\u001b[0m\u001b[0;34m+\u001b[0m\u001b[0mstr\u001b[0m\u001b[0;34m(\u001b[0m\u001b[0mi\u001b[0m\u001b[0;34m)\u001b[0m\u001b[0;34m]\u001b[0m\u001b[0;34m\u001b[0m\u001b[0;34m\u001b[0m\u001b[0m\n\u001b[0m\u001b[1;32m      3\u001b[0m     \u001b[0;32mif\u001b[0m \u001b[0mtime\u001b[0m \u001b[0;34m<\u001b[0m \u001b[0;36m5\u001b[0m\u001b[0;34m:\u001b[0m\u001b[0;34m\u001b[0m\u001b[0;34m\u001b[0m\u001b[0m\n\u001b[1;32m      4\u001b[0m         \u001b[0msht\u001b[0m\u001b[0;34m.\u001b[0m\u001b[0mrange\u001b[0m\u001b[0;34m(\u001b[0m\u001b[0;34m'C'\u001b[0m\u001b[0;34m+\u001b[0m\u001b[0mstr\u001b[0m\u001b[0;34m(\u001b[0m\u001b[0mi\u001b[0m\u001b[0;34m)\u001b[0m\u001b[0;34m)\u001b[0m\u001b[0;34m.\u001b[0m\u001b[0mapi\u001b[0m\u001b[0;34m.\u001b[0m\u001b[0mColor\u001b[0m \u001b[0;34m=\u001b[0m \u001b[0;34m'green'\u001b[0m\u001b[0;34m\u001b[0m\u001b[0;34m\u001b[0m\u001b[0m\n\u001b[1;32m      5\u001b[0m     \u001b[0;32melif\u001b[0m \u001b[0mtime\u001b[0m \u001b[0;34m<=\u001b[0m \u001b[0;36m10\u001b[0m\u001b[0;34m:\u001b[0m\u001b[0;34m\u001b[0m\u001b[0;34m\u001b[0m\u001b[0m\n",
            "\u001b[0;31mNameError\u001b[0m: name 'sht' is not defined"
          ]
        }
      ]
    },
    {
      "cell_type": "markdown",
      "metadata": {
        "id": "q-bucmTJjIDK"
      },
      "source": [
        "7. Добавьте на лист `Рецепты`  столбец `n_reviews`, содержащий кол-во отзывов для этого рецепта. Выполните задание при помощи формул Excel."
      ]
    },
    {
      "cell_type": "code",
      "source": [
        "sht.range('I1').value = 'seconds_assign'\n",
        "sht.range('I1').api.Font.Bold = True\n",
        "sht.range('I1').api.HorizontalAlignment = -4108"
      ],
      "metadata": {
        "id": "ck9uM3RnGSK7"
      },
      "execution_count": null,
      "outputs": []
    },
    {
      "cell_type": "markdown",
      "metadata": {
        "id": "90Yo8RvEjIDM"
      },
      "source": [
        "## Лабораторная работа 7.2"
      ]
    },
    {
      "cell_type": "markdown",
      "metadata": {
        "id": "y8Lawx5gjIDN"
      },
      "source": [
        "8. Напишите функцию `validate()`, которая проверяет соответствие всех строк из листа `Отзывы` следующим правилам:\n",
        "    * Рейтинг - это число от 0 до 5 включительно\n",
        "    * Соответствующий рецепт имеется на листе `Рецепты`\n",
        "    \n",
        "В случае несоответствия этим правилам, выделите строку красным цветом"
      ]
    },
    {
      "cell_type": "markdown",
      "metadata": {
        "id": "gI5hmoxBjIDN"
      },
      "source": [
        "9. В файле `recipes_model.csv` находится модель данных предметной области \"рецепты\". При помощи пакета `csv` считайте эти данные. При помощи пакета `xlwings` запишите данные на лист `Модель` книги `recipes_model.xlsx`, начиная с ячейки `A2`, не используя циклы. Сделайте скриншот текущего состояния листа и прикрепите в ячейку ноутбука. "
      ]
    },
    {
      "cell_type": "markdown",
      "metadata": {
        "id": "eNTfhLcTjIDO"
      },
      "source": [
        "10. При помощи пакета `xlwings` добавьте в столбец J формулу для описания столбца на языке SQL. Формула должна реализовывать следующую логику:\n",
        "\n",
        "    1\\. в начале строки идут значения из столбцов В и C (значение столбца С приведено к верхнему регистру), разделенные пробелом\n",
        "    \n",
        "    2\\. далее идут слова на основе столбца \"Ключ\"\n",
        "        2.1 если в столбце \"Ключ\" указано значение \"PK\", то дальше через пробел идет ключевое слово \"PRIMARY KEY\"\n",
        "        2.2 если в столбце \"Ключ\" указано значение \"FK\", то дальше через пробел идет ключевое слово \"REFERENCES\", затем значения столбцов H и I в формате \"название_таблицы(название_столбца)\"\n",
        "        \n",
        "    3\\. если в столбце \"Обязательно к заполнению\" указано значение \"Y\" и в столбце \"Ключ\" указано не \"PK\", то дальше через пробел идет ключевое слово \"NOT NULL\".\n",
        "\n",
        "Заполните этой формулой необходимое количество строк, используя \"протягивание\". Количество строк для протягивания определите на основе данных.\n",
        "\n",
        "Сделайте скриншот текущего состояния листа и прикрепите в ячейку ноутбука."
      ]
    },
    {
      "cell_type": "markdown",
      "metadata": {
        "id": "TUkSZ5k0jIDO"
      },
      "source": [
        "11. При помощи пакета `xlwings` измените стилизацию листа `Модель`.\n",
        "* для заголовков добавьте заливку цвета `00ccff`\n",
        "* примените автоподбор ширины столбца;\n",
        "* сделайте шрифт заголовков полужирным;\n",
        "* добавьте таблице автофильтр.\n",
        "\n",
        "Сделайте скриншот текущего состояния листа и прикрепите в ячейку ноутбука."
      ]
    },
    {
      "cell_type": "markdown",
      "metadata": {
        "id": "HgQD1M-rjIDP"
      },
      "source": [
        "12. Посчитайте количество атрибутов для каждой из сущностей. Создайте лист `Статистика` и запишите в него результат группировки, начиная с ячейки \"А1\". Визуализируйте полученный результат при помощи столбчатой диаграммы. Сохраните полученную визуализацию на лист `Статистика`, начиная с ячейки \"E2\".  Сделайте скриншот листа `Статистика` и прикрепите в ячейку ноутбука.\n",
        "\n",
        "* Вы можете воспользоваться методами для визуализации, которые поставляются вместе с объектами `pandas` (см. https://pandas.pydata.org/docs/reference/api/pandas.DataFrame.plot) "
      ]
    }
  ],
  "metadata": {
    "kernelspec": {
      "display_name": "Python 3 (ipykernel)",
      "language": "python",
      "name": "python3"
    },
    "language_info": {
      "codemirror_mode": {
        "name": "ipython",
        "version": 3
      },
      "file_extension": ".py",
      "mimetype": "text/x-python",
      "name": "python",
      "nbconvert_exporter": "python",
      "pygments_lexer": "ipython3",
      "version": "3.9.12"
    },
    "colab": {
      "provenance": []
    }
  },
  "nbformat": 4,
  "nbformat_minor": 0
}